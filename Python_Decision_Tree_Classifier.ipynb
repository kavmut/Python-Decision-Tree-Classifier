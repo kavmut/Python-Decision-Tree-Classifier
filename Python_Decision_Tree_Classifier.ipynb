{
  "nbformat": 4,
  "nbformat_minor": 0,
  "metadata": {
    "colab": {
      "name": "Python Decision Tree Classifier.ipynb",
      "provenance": [],
      "private_outputs": true,
      "authorship_tag": "ABX9TyN4yCTZxYaU0mYUcu/2Yrsy",
      "include_colab_link": true
    },
    "kernelspec": {
      "name": "python3",
      "display_name": "Python 3"
    }
  },
  "cells": [
    {
      "cell_type": "markdown",
      "metadata": {
        "id": "view-in-github",
        "colab_type": "text"
      },
      "source": [
        "<a href=\"https://colab.research.google.com/github/kavmut/Python-Decision-Tree-Classifier/blob/master/Python_Decision_Tree_Classifier.ipynb\" target=\"_parent\"><img src=\"https://colab.research.google.com/assets/colab-badge.svg\" alt=\"Open In Colab\"/></a>"
      ]
    },
    {
      "cell_type": "code",
      "metadata": {
        "id": "kp1JYGehG1K1",
        "colab_type": "code",
        "colab": {}
      },
      "source": [
        "# Description: This program prediczs if a player will play golf that day based on the weather (Outlook, Tempreature, Humidity, Windy) using machine learning alogorithm called a Decision Tree"
      ],
      "execution_count": null,
      "outputs": []
    },
    {
      "cell_type": "code",
      "metadata": {
        "id": "WdkVAFXfIchH",
        "colab_type": "code",
        "colab": {}
      },
      "source": [
        "# Import the dependencies\n",
        "from sklearn import tree\n",
        "import pandas as pd\n",
        "import pydotplus\n",
        "from IPython.display import Image"
      ],
      "execution_count": null,
      "outputs": []
    },
    {
      "cell_type": "code",
      "metadata": {
        "id": "eZATOo3cL0Z_",
        "colab_type": "code",
        "colab": {}
      },
      "source": [
        "# Create the dataset\n",
        "# Create emtty dataframe\n",
        "golf_df = pd.DataFrame()\n",
        "\n",
        "# Add Outlook\n",
        "golf_df['Outlook'] = ['sunny', 'sunny', 'overcast', 'rainy', 'rainy', 'rainy', 'overcast',\n",
        "                      'sunny', 'sunny', 'rainy', 'sunny', 'overcast', 'overcast', 'rainy']\n",
        "\n",
        "# Add Tempreature\n",
        "golf_df['Tempreature'] = ['hot', 'hot', 'hot', 'mild', 'cool', 'cool', 'cool', 'mild', 'cool',\n",
        "                          'mild', 'mild', 'mild', 'hot', 'mild']\n",
        "\n",
        "# Add Humidity\n",
        "golf_df['Humidity'] = ['high', 'high', 'high', 'high', 'normal', 'normal', 'normal', 'high',\n",
        "                       'normal', 'normal', 'normal', 'high', 'normal', 'high']\n",
        "\n",
        "# Add Windy\n",
        "golf_df['Windy']=['false', 'true', 'false', 'false', 'false', 'true', 'true',\n",
        "                  'false', 'false', 'false', 'true', 'true', 'false', 'true']\n",
        "\n",
        "# Add Target Variable Play\n",
        "golf_df['Play'] = ['no', 'no', 'yes', 'yes', 'yes', 'no', 'yes', 'no', 'yes', 'yes',\n",
        "                   'yes', 'yes', 'yes', 'no']\n",
        "\n",
        "# Look at the data\n",
        "print(golf_df)"
      ],
      "execution_count": null,
      "outputs": []
    },
    {
      "cell_type": "code",
      "metadata": {
        "id": "84S6DMTMQSw8",
        "colab_type": "code",
        "colab": {}
      },
      "source": [
        "# Convert the categorical data into dummy/indicator variables or (binary variables)\n",
        "one_hot_data = pd.get_dummies(golf_df[['Outlook', 'Tempreature', 'Humidity', 'Windy']])\n",
        "\n",
        "# Take a look at one_hot_data\n",
        "print(one_hot_data)"
      ],
      "execution_count": null,
      "outputs": []
    },
    {
      "cell_type": "code",
      "metadata": {
        "id": "CmhiJIMxRwoI",
        "colab_type": "code",
        "colab": {}
      },
      "source": [
        "# Crete the decision tree classifier\n",
        "clf = tree.DecisionTreeClassifier()\n",
        "\n",
        "# Train the Decision Tree\n",
        "clf_train = clf.fit(one_hot_data, golf_df['Play'])"
      ],
      "execution_count": null,
      "outputs": []
    },
    {
      "cell_type": "code",
      "metadata": {
        "id": "vDCPuo-TSTIF",
        "colab_type": "code",
        "colab": {}
      },
      "source": [
        "# Export a decision Tree in DOT format\n",
        "dot_data = tree.export_graphviz(clf_train, out_file=None, feature_names=list(one_hot_data.columns.values),\n",
        "                                rounded= True, filled=True, class_names=golf_df['Play'].unique())\n",
        "#print(dot_data)\n",
        "\n",
        "graph = pydotplus.graph_from_dot_data(dot_data)\n",
        "#Show Graph\n",
        "Image(graph.create_png())"
      ],
      "execution_count": null,
      "outputs": []
    },
    {
      "cell_type": "code",
      "metadata": {
        "id": "of6gI0yXSq0m",
        "colab_type": "code",
        "colab": {}
      },
      "source": [
        "# Test the model prediction \n",
        "# Outlook = sunny, Tempreature=hot. Humidity = normal, Windy = false\n",
        "prediction = clf_train.predict([[1,1,0,1,0,1,0,1,0,1]])\n",
        "\n",
        "\n",
        "\n",
        "print(prediction)"
      ],
      "execution_count": null,
      "outputs": []
    }
  ]
}